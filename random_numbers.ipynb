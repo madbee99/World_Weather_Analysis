{
 "cells": [
  {
   "cell_type": "code",
   "execution_count": 1,
   "id": "5c3c5158",
   "metadata": {},
   "outputs": [],
   "source": [
    "# Import the random module.\n",
    "import random"
   ]
  },
  {
   "cell_type": "code",
   "execution_count": 2,
   "id": "eb997584",
   "metadata": {},
   "outputs": [
    {
     "data": {
      "text/plain": [
       "-37"
      ]
     },
     "execution_count": 2,
     "metadata": {},
     "output_type": "execute_result"
    }
   ],
   "source": [
    "random.randint(-90,90) #(inclusive of endpoints)"
   ]
  },
  {
   "cell_type": "code",
   "execution_count": 3,
   "id": "1bdd7b0f",
   "metadata": {},
   "outputs": [
    {
     "data": {
      "text/plain": [
       "0.5222262779027173"
      ]
     },
     "execution_count": 3,
     "metadata": {},
     "output_type": "execute_result"
    }
   ],
   "source": [
    "random.random()"
   ]
  },
  {
   "cell_type": "code",
   "execution_count": 4,
   "id": "406938b9",
   "metadata": {},
   "outputs": [
    {
     "name": "stdout",
     "output_type": "stream",
     "text": [
      "[-41.57309247502389, -37.791982005281405, -83.81842791832365, -18.40996610660761, -57.738908881750596, -43.244943528695536, 50.7071870872595, -32.752798912304826, -5.646362575675465, 50.54181669368737]\n"
     ]
    }
   ],
   "source": [
    "x = 1\n",
    "latitudes = []\n",
    "while x < 11:\n",
    "    random_lat = random.randint(-90, 89) + random.random()\n",
    "    latitudes.append(random_lat)\n",
    "    x += 1\n",
    "\n",
    "print(latitudes)"
   ]
  },
  {
   "cell_type": "code",
   "execution_count": 5,
   "id": "fbb6fe47",
   "metadata": {},
   "outputs": [
    {
     "data": {
      "text/plain": [
       "18"
      ]
     },
     "execution_count": 5,
     "metadata": {},
     "output_type": "execute_result"
    }
   ],
   "source": [
    "random.randrange(-90, 90, 3) #3 is the step between -90 to 90"
   ]
  },
  {
   "cell_type": "code",
   "execution_count": 6,
   "id": "b3ffa966",
   "metadata": {},
   "outputs": [
    {
     "data": {
      "text/plain": [
       "-17.94944347550954"
      ]
     },
     "execution_count": 6,
     "metadata": {},
     "output_type": "execute_result"
    }
   ],
   "source": [
    "random.uniform(-90,90) #not an integer"
   ]
  },
  {
   "cell_type": "code",
   "execution_count": 7,
   "id": "59d802f9",
   "metadata": {},
   "outputs": [],
   "source": [
    "# Import the NumPy module.\n",
    "import numpy as np"
   ]
  },
  {
   "cell_type": "code",
   "execution_count": 8,
   "id": "c23077c2",
   "metadata": {},
   "outputs": [
    {
     "data": {
      "text/plain": [
       "-42.12260726778411"
      ]
     },
     "execution_count": 8,
     "metadata": {},
     "output_type": "execute_result"
    }
   ],
   "source": [
    "np.random.uniform(-90.000, 90.000)"
   ]
  },
  {
   "cell_type": "code",
   "execution_count": 9,
   "id": "de430d8a",
   "metadata": {
    "scrolled": true
   },
   "outputs": [
    {
     "data": {
      "text/plain": [
       "array([ 33.06416013,  -1.42312849, -30.00404176, -78.19012363,\n",
       "       -82.77614196,  34.6895878 ,  47.13279767,  69.76015119,\n",
       "        74.54005764,  65.49300443,  89.46550485, -40.64679363,\n",
       "        42.74576378,  10.11852428, -69.05317493, -45.21414158,\n",
       "        70.06166675,  -4.76508042,  78.98462278, -16.53348848,\n",
       "       -88.95971448, -21.23213639, -42.20974808,  -9.87701877,\n",
       "        -0.16310906,  -2.28701027, -77.65111879,  38.90767718,\n",
       "        56.4323263 ,  83.44194158,  69.02979089,  68.29326676,\n",
       "        -9.28485163,  47.93342653, -50.48008328,  76.52742086,\n",
       "        25.70040637,  10.06967611,  51.54748976, -22.29435793,\n",
       "        11.21434327,  74.30299112, -27.64422875,  59.30214452,\n",
       "       -82.09988586, -88.49384668, -20.232114  , -88.75360141,\n",
       "       -20.61830215,  45.1276186 ])"
      ]
     },
     "execution_count": 9,
     "metadata": {},
     "output_type": "execute_result"
    }
   ],
   "source": [
    "np.random.uniform(-90.000, 90.000, size = 50)"
   ]
  },
  {
   "cell_type": "code",
   "execution_count": 10,
   "id": "cd57c874",
   "metadata": {},
   "outputs": [],
   "source": [
    "# Import timeit.\n",
    "import timeit"
   ]
  },
  {
   "cell_type": "code",
   "execution_count": 11,
   "id": "01135376",
   "metadata": {},
   "outputs": [
    {
     "name": "stdout",
     "output_type": "stream",
     "text": [
      "20 µs ± 1.65 µs per loop (mean ± std. dev. of 7 runs, 10000 loops each)\n"
     ]
    }
   ],
   "source": [
    "%timeit np.random.uniform(-90.000, 90.000, size = 1500)"
   ]
  },
  {
   "cell_type": "code",
   "execution_count": 12,
   "id": "fb68b21d",
   "metadata": {},
   "outputs": [
    {
     "name": "stdout",
     "output_type": "stream",
     "text": [
      "2.79 ms ± 180 µs per loop (mean ± std. dev. of 7 runs, 100 loops each)\n"
     ]
    }
   ],
   "source": [
    "def latitudes(size):\n",
    "    latitudes = []\n",
    "    x = 0\n",
    "    while x < (size):\n",
    "        random_lat = random.randint(-90, 90) + random.random()\n",
    "        latitudes.append(random_lat)\n",
    "        x += 1\n",
    "    return latitudes\n",
    "# Call the function with 1500.\n",
    "%timeit latitudes(1500)"
   ]
  }
 ],
 "metadata": {
  "kernelspec": {
   "display_name": "PythonData",
   "language": "python",
   "name": "pythondata"
  },
  "language_info": {
   "codemirror_mode": {
    "name": "ipython",
    "version": 3
   },
   "file_extension": ".py",
   "mimetype": "text/x-python",
   "name": "python",
   "nbconvert_exporter": "python",
   "pygments_lexer": "ipython3",
   "version": "3.7.10"
  }
 },
 "nbformat": 4,
 "nbformat_minor": 5
}
